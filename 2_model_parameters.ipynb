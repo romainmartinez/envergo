{
 "cells": [
  {
   "cell_type": "markdown",
   "metadata": {},
   "source": [
    "# 2. Model parameters"
   ]
  },
  {
   "cell_type": "code",
   "execution_count": 1,
   "metadata": {},
   "outputs": [],
   "source": [
    "import scipy.io as sio\n",
    "import numpy as np\n",
    "import os"
   ]
  },
  {
   "cell_type": "code",
   "execution_count": 2,
   "metadata": {},
   "outputs": [],
   "source": [
    "path2data = '/home/romain/Downloads/envergo'\n",
    "mat = sio.loadmat(os.path.join(path2data, 'Parametres.mat'))"
   ]
  },
  {
   "cell_type": "markdown",
   "metadata": {},
   "source": [
    "## Data description\n",
    "- `mat['PARAMETRES']`: raw model parameters (_used in the following sections_)\n",
    "    - size: $35 \\text{ (participants)} \\times 7 \\text{ (parameters)} \\times 6 \\text{ (positions)} \\times 2 \\text{ (contractions)}$\n",
    "- `mat['parametres']`: model parameters converted in _SI_ units\n",
    "- `mat['ERR']`: optimization residuals\n",
    "\n",
    "<img src=\"../../../Downloads/envergo//ParametresModele.png\" width=\"800\">\n",
    "- Expected variables in spm: $J \\text{ (observations)} \\times Q \\text{ (frames)} \\times I \\text{ (variables)}$\n",
    "    - `y`: $n \\times 7$\n",
    "    - `A`: $n \\times 1$"
   ]
  },
  {
   "cell_type": "code",
   "execution_count": 3,
   "metadata": {},
   "outputs": [
    {
     "name": "stdout",
     "output_type": "stream",
     "text": [
      "mat: 1470\n"
     ]
    },
    {
     "ename": "NameError",
     "evalue": "name 'y1' is not defined",
     "output_type": "error",
     "traceback": [
      "\u001b[0;31m---------------------------------------------------------------------------\u001b[0m",
      "\u001b[0;31mNameError\u001b[0m                                 Traceback (most recent call last)",
      "\u001b[0;32m<ipython-input-3-b84369ee05ab>\u001b[0m in \u001b[0;36m<module>\u001b[0;34m()\u001b[0m\n\u001b[1;32m      1\u001b[0m \u001b[0mprint\u001b[0m\u001b[0;34m(\u001b[0m\u001b[0;34m'mat: {}'\u001b[0m\u001b[0;34m.\u001b[0m\u001b[0mformat\u001b[0m\u001b[0;34m(\u001b[0m\u001b[0mmat\u001b[0m\u001b[0;34m[\u001b[0m\u001b[0;34m'PARAMETRES'\u001b[0m\u001b[0;34m]\u001b[0m\u001b[0;34m[\u001b[0m\u001b[0;34m:\u001b[0m\u001b[0;34m,\u001b[0m \u001b[0;34m:\u001b[0m\u001b[0;34m,\u001b[0m \u001b[0;34m:\u001b[0m\u001b[0;34m,\u001b[0m \u001b[0;36m0\u001b[0m\u001b[0;34m]\u001b[0m\u001b[0;34m.\u001b[0m\u001b[0msize\u001b[0m\u001b[0;34m)\u001b[0m\u001b[0;34m)\u001b[0m\u001b[0;34m\u001b[0m\u001b[0m\n\u001b[0;32m----> 2\u001b[0;31m \u001b[0mprint\u001b[0m\u001b[0;34m(\u001b[0m\u001b[0;34m'y1: {}'\u001b[0m\u001b[0;34m.\u001b[0m\u001b[0mformat\u001b[0m\u001b[0;34m(\u001b[0m\u001b[0my1\u001b[0m\u001b[0;34m.\u001b[0m\u001b[0msize\u001b[0m\u001b[0;34m)\u001b[0m\u001b[0;34m)\u001b[0m\u001b[0;34m\u001b[0m\u001b[0m\n\u001b[0m",
      "\u001b[0;31mNameError\u001b[0m: name 'y1' is not defined"
     ]
    }
   ],
   "source": [
    "print('mat: {}'.format(mat['PARAMETRES'][:, :, :, 0].size))\n",
    "print('y1: {}'.format(y1.size))"
   ]
  },
  {
   "cell_type": "code",
   "execution_count": 4,
   "metadata": {},
   "outputs": [
    {
     "data": {
      "text/plain": [
       "175"
      ]
     },
     "execution_count": 4,
     "metadata": {},
     "output_type": "execute_result"
    }
   ],
   "source": [
    "np.array([])"
   ]
  },
  {
   "cell_type": "code",
   "execution_count": 6,
   "metadata": {},
   "outputs": [],
   "source": [
    "nparticipant, nparameter, nposition, ncontraction = mat['PARAMETRES'].shape\n",
    "y1, y2 = [np.full([nparticipant*nposition, 7], np.nan) for i in range(2)]\n",
    "A1, A2 = [np.full([nparticipant*nposition, 1], np.nan) for i in range(2)]\n",
    "\n",
    "idx = 0\n",
    "for iparticipant in range(nparticipant):\n",
    "    for iparameter in range(nparameter):\n",
    "        for iposition in range(nposition):\n",
    "            # matrix for contraction 1\n",
    "            y1[idx, iparameter] = mat['PARAMETRES'][iparticipant, iparameter, iposition, 0]\n",
    "            A1[idx] = iposition \n",
    "            # matrix for contraction 2\n",
    "            y2[idx, iparameter] = mat['PARAMETRES'][iparticipant, iparameter, iposition, 1]\n",
    "            A2[idx] = iposition \n",
    "            \n",
    "    idx += 1"
   ]
  },
  {
   "cell_type": "code",
   "execution_count": 7,
   "metadata": {},
   "outputs": [
    {
     "ename": "IndexError",
     "evalue": "too many indices for array",
     "output_type": "error",
     "traceback": [
      "\u001b[0;31m---------------------------------------------------------------------------\u001b[0m",
      "\u001b[0;31mIndexError\u001b[0m                                Traceback (most recent call last)",
      "\u001b[0;32m<ipython-input-7-315dd0215648>\u001b[0m in \u001b[0;36m<module>\u001b[0;34m()\u001b[0m\n\u001b[1;32m      8\u001b[0m         \u001b[0;32mfor\u001b[0m \u001b[0miposition\u001b[0m \u001b[0;32min\u001b[0m \u001b[0mrange\u001b[0m\u001b[0;34m(\u001b[0m\u001b[0mnposition\u001b[0m\u001b[0;34m)\u001b[0m\u001b[0;34m:\u001b[0m\u001b[0;34m\u001b[0m\u001b[0m\n\u001b[1;32m      9\u001b[0m             \u001b[0;31m# matrix for contraction 1\u001b[0m\u001b[0;34m\u001b[0m\u001b[0;34m\u001b[0m\u001b[0m\n\u001b[0;32m---> 10\u001b[0;31m             \u001b[0my1\u001b[0m\u001b[0;34m[\u001b[0m\u001b[0midx\u001b[0m\u001b[0;34m,\u001b[0m \u001b[0miparameter\u001b[0m\u001b[0;34m]\u001b[0m \u001b[0;34m=\u001b[0m \u001b[0mmat\u001b[0m\u001b[0;34m[\u001b[0m\u001b[0;34m'PARAMETRES'\u001b[0m\u001b[0;34m]\u001b[0m\u001b[0;34m[\u001b[0m\u001b[0miparticipant\u001b[0m\u001b[0;34m,\u001b[0m \u001b[0miparameter\u001b[0m\u001b[0;34m,\u001b[0m \u001b[0miposition\u001b[0m\u001b[0;34m,\u001b[0m \u001b[0;36m0\u001b[0m\u001b[0;34m]\u001b[0m\u001b[0;34m\u001b[0m\u001b[0m\n\u001b[0m\u001b[1;32m     11\u001b[0m             \u001b[0mA1\u001b[0m\u001b[0;34m[\u001b[0m\u001b[0midx\u001b[0m\u001b[0;34m]\u001b[0m \u001b[0;34m=\u001b[0m \u001b[0miposition\u001b[0m\u001b[0;34m\u001b[0m\u001b[0m\n\u001b[1;32m     12\u001b[0m             \u001b[0;31m# matrix for contraction 2\u001b[0m\u001b[0;34m\u001b[0m\u001b[0;34m\u001b[0m\u001b[0m\n",
      "\u001b[0;31mIndexError\u001b[0m: too many indices for array"
     ]
    }
   ],
   "source": [
    "nparticipant, nparameter, nposition, ncontraction = mat['PARAMETRES'].shape\n",
    "y1, A1, y2, A2 = [np.array([]) for i in range(4)]\n",
    "\n",
    "idx = 0\n",
    "for iparticipant in range(nparticipant):\n",
    "    for iparameter in range(nparameter):\n",
    "        for iposition in range(nposition):\n",
    "            # matrix for contraction 1\n",
    "            y1[idx, iparameter] = mat['PARAMETRES'][iparticipant, iparameter, iposition, 0]\n",
    "            A1[idx] = iposition \n",
    "            # matrix for contraction 2\n",
    "            y2[idx, iparameter] = mat['PARAMETRES'][iparticipant, iparameter, iposition, 1]\n",
    "            A2[idx] = iposition \n",
    "            \n",
    "    idx += 1"
   ]
  },
  {
   "cell_type": "code",
   "execution_count": 37,
   "metadata": {},
   "outputs": [
    {
     "name": "stdout",
     "output_type": "stream",
     "text": [
      "Dataset\n",
      "   Name      : \"Stevens2002\"\n",
      "   Design    :  One-way MANOVA\n",
      "   Data dim  :  0\n",
      "   Web       :  http://faculty.smu.edu/kyler/courses/7314/MANOVA.pdf\n",
      "  (Expected results)\n",
      "  X2         :  20.4983\n",
      "  df         :  (1, 4)\n",
      "  p          :  0.00039807\n",
      "\n",
      "Non-parametric result:\n",
      "SnPM{X2} inference (0D)\n",
      "   SPM.z              :  20.498\n",
      "   SnPM.nPermUnique   :  4.79e+08 permutations possible\n",
      "Inference:\n",
      "   SnPM.nPermActual   :  10000 actual permutations\n",
      "   SPM.alpha          :  0.050\n",
      "   SPM.zstar          :  9.36640\n",
      "   SPM.h0reject       :  True\n",
      "   SPM.p              :  <0.001\n",
      "\n"
     ]
    }
   ],
   "source": [
    "import numpy as np\n",
    "import spm1d\n",
    "\n",
    "\n",
    "\n",
    "\n",
    "#(0) Load dataset:\n",
    "#dataset = spm1d.data.mv0d.manova1.AnimalDepression()\n",
    "dataset = spm1d.data.mv0d.manova1.Stevens2002()\n",
    "y,A     = dataset.Y, dataset.A\n",
    "print(dataset)\n",
    "\n",
    "\n",
    "\n",
    "#(1) Conduct non-parametric test:\n",
    "np.random.seed(0)\n",
    "X2n     = spm1d.stats.nonparam.manova1(y, A)\n",
    "X2ni    = X2n.inference(alpha=0.05, iterations=10000)\n",
    "print( 'Non-parametric result:')\n",
    "print( X2ni)"
   ]
  },
  {
   "cell_type": "code",
   "execution_count": 38,
   "metadata": {},
   "outputs": [
    {
     "name": "stdout",
     "output_type": "stream",
     "text": [
      "(12, 2)\n",
      "(12,)\n"
     ]
    }
   ],
   "source": [
    "print(y.shape)\n",
    "print(A.shape)"
   ]
  },
  {
   "cell_type": "code",
   "execution_count": 35,
   "metadata": {},
   "outputs": [],
   "source": [
    "#(0) Load data:\n",
    "dataset      = spm1d.data.mv1d.manova1.Dorn2012()\n",
    "y,A          = dataset.get_data()  #A:slow, B:fast\n",
    "# print( dataset )\n",
    "\n",
    "y,A          = np.vstack([y,y]), np.hstack([A,A])\n"
   ]
  },
  {
   "cell_type": "code",
   "execution_count": 36,
   "metadata": {},
   "outputs": [
    {
     "name": "stdout",
     "output_type": "stream",
     "text": [
      "(16, 100, 3)\n",
      "(16,)\n"
     ]
    }
   ],
   "source": [
    "print(y.shape)\n",
    "print(A.shape)"
   ]
  }
 ],
 "metadata": {
  "kernelspec": {
   "display_name": "Python [conda env:envergo]",
   "language": "python",
   "name": "conda-env-envergo-py"
  },
  "language_info": {
   "codemirror_mode": {
    "name": "ipython",
    "version": 3
   },
   "file_extension": ".py",
   "mimetype": "text/x-python",
   "name": "python",
   "nbconvert_exporter": "python",
   "pygments_lexer": "ipython3",
   "version": "3.6.3"
  }
 },
 "nbformat": 4,
 "nbformat_minor": 2
}
