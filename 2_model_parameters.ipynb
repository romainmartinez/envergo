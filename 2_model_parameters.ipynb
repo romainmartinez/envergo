{
 "cells": [
  {
   "cell_type": "markdown",
   "metadata": {},
   "source": [
    "# EnvErgo project\n",
    "- [researchgate link](https://www.researchgate.net/project/Isokinetic-measurements-and-musculoskeletal-modelling-for-ergonomics)\n",
    "- [github link](https://github.com/romainmartinez/envergo)\n",
    "\n",
    "_Romain Martinez_\n",
    "\n",
    "# Model parameters"
   ]
  },
  {
   "cell_type": "code",
   "execution_count": 15,
   "metadata": {},
   "outputs": [],
   "source": [
    "import matplotlib.pyplot as plt\n",
    "import matplotlib.colors\n",
    "import seaborn as sns\n",
    "import numpy as np\n",
    "import itertools\n",
    "import spm1d\n",
    "import scipy\n",
    "import os\n",
    "plt.rcParams['pdf.fonttype'] = 42\n",
    "plt.rcParams['ps.fonttype'] = 42"
   ]
  },
  {
   "cell_type": "code",
   "execution_count": 16,
   "metadata": {},
   "outputs": [],
   "source": [
    "path2data = '/home/romain/Desktop/envergo/parameter/'\n",
    "mat = scipy.io.loadmat(os.path.join(path2data, 'Parametres.mat'))"
   ]
  },
  {
   "cell_type": "markdown",
   "metadata": {},
   "source": [
    "## Data description\n",
    "- `mat['PARAMETRES']`: raw model parameters (_used in the following sections_)\n",
    "    - size: $35 \\text{ (participants)} \\times 7 \\text{ (parameters)} \\times 6 \\text{ (positions)} \\times 2 \\text{ (contractions)}$\n",
    "- `mat['parametres']`: model parameters converted in _SI_ units\n",
    "- `mat['ERR']`: optimization residuals\n",
    "\n",
    "<img src=\"../../../Downloads/envergo//ParametresModele.png\" width=\"800\">\n",
    "- Expected variables in spm: $J \\text{ (observations)} \\times Q \\text{ (frames)} \\times I \\text{ (variables)}$\n",
    "    - `y`: $n \\times 7$\n",
    "    - `A`: $n \\times 1$"
   ]
  },
  {
   "cell_type": "code",
   "execution_count": 17,
   "metadata": {},
   "outputs": [
    {
     "name": "stdout",
     "output_type": "stream",
     "text": [
      "----DIMENSION----\n",
      "y shape: (210, 7) | has 175 nans\n",
      "positions shape: (210,) | has 0 nans\n"
     ]
    }
   ],
   "source": [
    "nparticipant, nparameter, nposition, ncontraction = mat['PARAMETRES'].shape\n",
    "y, positions = [[] for i in range(2)]\n",
    "contraction = 1  # 0: flexion | 1: extension\n",
    "\n",
    "for iparticipant in range(nparticipant):\n",
    "    for iposition in range(nposition):\n",
    "        y.append(mat['PARAMETRES'][iparticipant, :, iposition, contraction])\n",
    "        positions.append(iposition)\n",
    "\n",
    "y, positions = [np.array(i) for i in [y, positions]]\n",
    "print('----dimension----'.upper())\n",
    "funct = lambda x, y: print(f'{x} shape: {y.shape} | has {np.isnan(y).sum()} nans')\n",
    "funct('y', y)\n",
    "funct('positions', positions)"
   ]
  },
  {
   "cell_type": "code",
   "execution_count": 18,
   "metadata": {},
   "outputs": [
    {
     "name": "stdout",
     "output_type": "stream",
     "text": [
      "y shape: (210, 7) | has 0 nans\n",
      "positions shape: (210,) | has 0 nans\n"
     ]
    }
   ],
   "source": [
    "# replace missing trial by mean of the position\n",
    "for iposition in np.unique(positions):\n",
    "    idx = positions == iposition\n",
    "    mean_vector = np.nanmean(y[idx, :], axis=0)\n",
    "    y[idx,  :] = np.where(np.isnan(y[idx, :]), mean_vector, y[idx, :])\n",
    "funct('y', y)\n",
    "funct('positions', positions)"
   ]
  },
  {
   "cell_type": "code",
   "execution_count": 19,
   "metadata": {},
   "outputs": [],
   "source": [
    "def display_results(spm, kind=None, title=None, indent=''):\n",
    "    print(title.upper())\n",
    "    var = 'X' if kind == 'manova' else 'T'\n",
    "    if spm.h0reject:\n",
    "        print(f'{indent}null hypothesis rejected, {var}2={spm.z:.3f}, p={spm.p:.5f}')\n",
    "    else:\n",
    "        print(f'{indent}null hypothesis not rejected')"
   ]
  },
  {
   "cell_type": "code",
   "execution_count": 20,
   "metadata": {},
   "outputs": [],
   "source": [
    "def spm_heatmap(df, title=None, labels=None, save_fig=False, cmap='viridis', limits=None):\n",
    "    fig, axs = plt.subplots(figsize=(8, 4))\n",
    "    if limits is None:\n",
    "        ax = sns.heatmap(df, linewidths=.5, cbar_kws={'label': 'T statistic'},\n",
    "                     annot=True, xticklabels=labels, yticklabels=labels, cmap=cmap, fmt='g')\n",
    "    else:\n",
    "        ax = sns.heatmap(df, linewidths=.5, cbar_kws={'label': 'T statistic'}, vmin=limits[0], vmax=limits[1],\n",
    "                     annot=True, xticklabels=labels, yticklabels=labels, cmap=cmap, fmt='g')\n",
    "\n",
    "    ax.invert_yaxis()\n",
    "    ax.set_title(title)\n",
    "    plt.show()\n",
    "    \n",
    "    if save_fig:\n",
    "        fig.savefig('./share/fig/{}.pdf'.format(title), transparent=True)"
   ]
  },
  {
   "cell_type": "markdown",
   "metadata": {},
   "source": [
    "## One-way MANOVA (non-parametric)"
   ]
  },
  {
   "cell_type": "code",
   "execution_count": 21,
   "metadata": {},
   "outputs": [
    {
     "name": "stdout",
     "output_type": "stream",
     "text": [
      "ONE-WAY MANOVA\n",
      "null hypothesis rejected, X2=99.206, p=0.00010\n"
     ]
    }
   ],
   "source": [
    "alpha = 0.05\n",
    "iterations = 10000\n",
    "np.random.seed(0)\n",
    "\n",
    "m_spm = spm1d.stats.nonparam.manova1(y, positions)\n",
    "m_spmi = m_spm.inference(alpha=alpha, iterations=iterations)\n",
    "\n",
    "display_results(m_spmi, title='one-way manova', kind='manova')"
   ]
  },
  {
   "cell_type": "markdown",
   "metadata": {},
   "source": [
    "- There was a significant main effect for position ($p<0.001$)\n",
    "- As the manova reach significance, we can conduct separate Hotelling’s T$^2$ tests on each pair of groups\n",
    "    - If those tests reach significance then conduct additional post hoc t tests on each vector component, but acknowledge that this neglects vector component covariance."
   ]
  },
  {
   "cell_type": "markdown",
   "metadata": {},
   "source": [
    "## Post hoc analysis (non-parametric paired Hotellings's T2 and paired t-test)"
   ]
  },
  {
   "cell_type": "code",
   "execution_count": null,
   "metadata": {},
   "outputs": [
    {
     "name": "stdout",
     "output_type": "stream",
     "text": [
      "HOTELLING REF VS. ABD90IR\n",
      "null hypothesis rejected, T2=37.554, p=0.00110\n",
      "\tT-TEST PARAMETER MAX. ISOMETRIC TORQUE\n",
      "\tnull hypothesis rejected, T2=2.191, p=0.01280\n",
      "\tT-TEST PARAMETER MAX. ISOMETRIC RANGE OF MOTION\n",
      "\tnull hypothesis not rejected\n",
      "\tT-TEST PARAMETER ISOMETRIC OPTIMAL RANGE\n",
      "\tnull hypothesis rejected, T2=-2.962, p=0.00700\n",
      "\tT-TEST PARAMETER VELOCITY AT MAX. POWER\n",
      "\tnull hypothesis rejected, T2=2.740, p=0.00660\n",
      "\tT-TEST PARAMETER MAX. CONC. VELOCITY\n",
      "\tnull hypothesis rejected, T2=2.798, p=0.00540\n",
      "\tT-TEST PARAMETER MAX. ECC. VELOCITY\n",
      "\tnull hypothesis not rejected\n",
      "\tT-TEST PARAMETER MAX. ECC. TO CONC. TORQUE RATIO\n",
      "\tnull hypothesis rejected, T2=3.036, p=0.00140\n",
      "--------\n",
      "HOTELLING REF VS. FLEX90IR\n",
      "null hypothesis rejected, T2=25.328, p=0.01080\n",
      "\tT-TEST PARAMETER MAX. ISOMETRIC TORQUE\n",
      "\tnull hypothesis rejected, T2=2.478, p=0.01880\n",
      "\tT-TEST PARAMETER MAX. ISOMETRIC RANGE OF MOTION\n",
      "\tnull hypothesis not rejected\n",
      "\tT-TEST PARAMETER ISOMETRIC OPTIMAL RANGE\n",
      "\tnull hypothesis not rejected\n",
      "\tT-TEST PARAMETER VELOCITY AT MAX. POWER\n",
      "\tnull hypothesis not rejected\n",
      "\tT-TEST PARAMETER MAX. CONC. VELOCITY\n",
      "\tnull hypothesis not rejected\n",
      "\tT-TEST PARAMETER MAX. ECC. VELOCITY\n",
      "\tnull hypothesis not rejected\n",
      "\tT-TEST PARAMETER MAX. ECC. TO CONC. TORQUE RATIO\n",
      "\tnull hypothesis rejected, T2=2.934, p=0.00660\n",
      "--------\n",
      "HOTELLING REF VS. FLEX180ER\n",
      "null hypothesis rejected, T2=86.891, p=0.00010\n",
      "\tT-TEST PARAMETER MAX. ISOMETRIC TORQUE\n",
      "\tnull hypothesis rejected, T2=4.098, p=0.00020\n",
      "\tT-TEST PARAMETER MAX. ISOMETRIC RANGE OF MOTION\n",
      "\tnull hypothesis not rejected\n",
      "\tT-TEST PARAMETER ISOMETRIC OPTIMAL RANGE\n",
      "\tnull hypothesis not rejected\n",
      "\tT-TEST PARAMETER VELOCITY AT MAX. POWER\n",
      "\tnull hypothesis rejected, T2=4.960, p=0.00010\n",
      "\tT-TEST PARAMETER MAX. CONC. VELOCITY\n",
      "\tnull hypothesis rejected, T2=5.058, p=0.00010\n",
      "\tT-TEST PARAMETER MAX. ECC. VELOCITY\n",
      "\tnull hypothesis not rejected\n",
      "\tT-TEST PARAMETER MAX. ECC. TO CONC. TORQUE RATIO\n",
      "\tnull hypothesis rejected, T2=4.743, p=0.00010\n",
      "--------\n",
      "HOTELLING REF VS. ABD90ER\n",
      "null hypothesis rejected, T2=42.189, p=0.00020\n",
      "\tT-TEST PARAMETER MAX. ISOMETRIC TORQUE\n",
      "\tnull hypothesis rejected, T2=3.907, p=0.00010\n",
      "\tT-TEST PARAMETER MAX. ISOMETRIC RANGE OF MOTION\n",
      "\tnull hypothesis not rejected\n",
      "\tT-TEST PARAMETER ISOMETRIC OPTIMAL RANGE\n",
      "\tnull hypothesis not rejected\n",
      "\tT-TEST PARAMETER VELOCITY AT MAX. POWER\n",
      "\tnull hypothesis not rejected\n",
      "\tT-TEST PARAMETER MAX. CONC. VELOCITY\n",
      "\tnull hypothesis not rejected\n",
      "\tT-TEST PARAMETER MAX. ECC. VELOCITY\n",
      "\tnull hypothesis not rejected\n",
      "\tT-TEST PARAMETER MAX. ECC. TO CONC. TORQUE RATIO\n",
      "\tnull hypothesis rejected, T2=3.971, p=0.00010\n",
      "--------\n",
      "HOTELLING REF VS. FLEX90ER\n",
      "null hypothesis rejected, T2=50.628, p=0.00010\n",
      "\tT-TEST PARAMETER MAX. ISOMETRIC TORQUE\n",
      "\tnull hypothesis not rejected\n",
      "\tT-TEST PARAMETER MAX. ISOMETRIC RANGE OF MOTION\n",
      "\tnull hypothesis not rejected\n",
      "\tT-TEST PARAMETER ISOMETRIC OPTIMAL RANGE\n",
      "\tnull hypothesis rejected, T2=3.283, p=0.00080\n",
      "\tT-TEST PARAMETER VELOCITY AT MAX. POWER\n",
      "\tnull hypothesis rejected, T2=4.792, p=0.00010\n",
      "\tT-TEST PARAMETER MAX. CONC. VELOCITY\n",
      "\tnull hypothesis rejected, T2=4.912, p=0.00010\n",
      "\tT-TEST PARAMETER MAX. ECC. VELOCITY\n",
      "\tnull hypothesis not rejected\n",
      "\tT-TEST PARAMETER MAX. ECC. TO CONC. TORQUE RATIO\n",
      "\tnull hypothesis not rejected\n",
      "--------\n",
      "HOTELLING ABD90IR VS. FLEX90IR\n",
      "null hypothesis rejected, T2=30.624, p=0.00190\n",
      "\tT-TEST PARAMETER MAX. ISOMETRIC TORQUE\n",
      "\tnull hypothesis not rejected\n",
      "\tT-TEST PARAMETER MAX. ISOMETRIC RANGE OF MOTION\n",
      "\tnull hypothesis not rejected\n",
      "\tT-TEST PARAMETER ISOMETRIC OPTIMAL RANGE\n",
      "\tnull hypothesis rejected, T2=3.961, p=0.00020\n",
      "\tT-TEST PARAMETER VELOCITY AT MAX. POWER\n",
      "\tnull hypothesis not rejected\n",
      "\tT-TEST PARAMETER MAX. CONC. VELOCITY\n",
      "\tnull hypothesis not rejected\n",
      "\tT-TEST PARAMETER MAX. ECC. VELOCITY\n",
      "\tnull hypothesis not rejected\n",
      "\tT-TEST PARAMETER MAX. ECC. TO CONC. TORQUE RATIO\n",
      "\tnull hypothesis not rejected\n",
      "--------\n",
      "HOTELLING ABD90IR VS. FLEX180ER\n",
      "null hypothesis rejected, T2=56.623, p=0.00010\n",
      "\tT-TEST PARAMETER MAX. ISOMETRIC TORQUE\n",
      "\tnull hypothesis not rejected\n",
      "\tT-TEST PARAMETER MAX. ISOMETRIC RANGE OF MOTION\n",
      "\tnull hypothesis not rejected\n",
      "\tT-TEST PARAMETER ISOMETRIC OPTIMAL RANGE\n",
      "\tnull hypothesis rejected, T2=5.026, p=0.00010\n",
      "\tT-TEST PARAMETER VELOCITY AT MAX. POWER\n",
      "\tnull hypothesis rejected, T2=2.896, p=0.00120\n",
      "\tT-TEST PARAMETER MAX. CONC. VELOCITY\n",
      "\tnull hypothesis rejected, T2=2.775, p=0.00480\n",
      "\tT-TEST PARAMETER MAX. ECC. VELOCITY\n",
      "\tnull hypothesis not rejected\n",
      "\tT-TEST PARAMETER MAX. ECC. TO CONC. TORQUE RATIO\n",
      "\tnull hypothesis not rejected\n",
      "--------\n",
      "HOTELLING ABD90IR VS. ABD90ER\n",
      "null hypothesis rejected, T2=34.343, p=0.00160\n",
      "\tT-TEST PARAMETER MAX. ISOMETRIC TORQUE\n",
      "\tnull hypothesis rejected, T2=3.100, p=0.00260\n",
      "\tT-TEST PARAMETER MAX. ISOMETRIC RANGE OF MOTION\n",
      "\tnull hypothesis not rejected\n",
      "\tT-TEST PARAMETER ISOMETRIC OPTIMAL RANGE\n",
      "\tnull hypothesis rejected, T2=4.190, p=0.00010\n",
      "\tT-TEST PARAMETER VELOCITY AT MAX. POWER\n",
      "\tnull hypothesis not rejected\n",
      "\tT-TEST PARAMETER MAX. CONC. VELOCITY\n",
      "\tnull hypothesis not rejected\n",
      "\tT-TEST PARAMETER MAX. ECC. VELOCITY\n",
      "\tnull hypothesis not rejected\n",
      "\tT-TEST PARAMETER MAX. ECC. TO CONC. TORQUE RATIO\n",
      "\tnull hypothesis rejected, T2=2.463, p=0.01780\n",
      "--------\n",
      "HOTELLING ABD90IR VS. FLEX90ER\n",
      "null hypothesis rejected, T2=93.749, p=0.00010\n",
      "\tT-TEST PARAMETER MAX. ISOMETRIC TORQUE\n",
      "\tnull hypothesis rejected, T2=-3.215, p=0.00320\n",
      "\tT-TEST PARAMETER MAX. ISOMETRIC RANGE OF MOTION\n",
      "\tnull hypothesis not rejected\n",
      "\tT-TEST PARAMETER ISOMETRIC OPTIMAL RANGE\n",
      "\tnull hypothesis rejected, T2=5.512, p=0.00010\n",
      "\tT-TEST PARAMETER VELOCITY AT MAX. POWER\n",
      "\tnull hypothesis not rejected\n",
      "\tT-TEST PARAMETER MAX. CONC. VELOCITY\n",
      "\tnull hypothesis not rejected\n",
      "\tT-TEST PARAMETER MAX. ECC. VELOCITY\n",
      "\tnull hypothesis not rejected\n",
      "\tT-TEST PARAMETER MAX. ECC. TO CONC. TORQUE RATIO\n",
      "\tnull hypothesis rejected, T2=-2.815, p=0.00560\n",
      "--------\n"
     ]
    }
   ],
   "source": [
    "n_positions = len(set(positions))\n",
    "combinations = itertools.combinations(range(n_positions), 2)\n",
    "names_positions = ['Ref', 'Abd90IR', 'Flex90IR', 'Flex180ER', 'Abd90ER', 'Flex90ER']\n",
    "names_parameters = ['Max. isometric torque', 'Max. isometric range of motion', 'Isometric optimal range', 'Velocity at max. power',\n",
    "                   'Max. conc. velocity', 'Max. ecc. velocity', 'Max. ecc. to conc. torque ratio']\n",
    "H_heatmap = np.full([6, 6], np.nan)\n",
    "T_heatmap = np.full([6, 6, 7], np.nan)\n",
    "\n",
    "plot_diff = True\n",
    "\n",
    "for A, B in combinations:\n",
    "    yA = y[positions == A]\n",
    "    yB = y[positions == B]\n",
    "    \n",
    "    h_spm = spm1d.stats.nonparam.hotellings_paired(yA, yB)\n",
    "    h_spmi = h_spm.inference(alpha, iterations=iterations, force_iterations=True)\n",
    "    \n",
    "    display_results(h_spmi, title=f'hotelling {names_positions[A]} vs. {names_positions[B]}', kind='hotelling')\n",
    "    \n",
    "    if h_spmi.h0reject:\n",
    "        H_heatmap[B, A] = int(h_spmi.z)\n",
    "        for iparameter in range(nparameter):\n",
    "            t_spm = spm1d.stats.nonparam.ttest_paired(yA[:, iparameter], yB[:, iparameter])\n",
    "            t_spmi = t_spm.inference(alpha, two_tailed=True, iterations=iterations, force_iterations=True)\n",
    "\n",
    "            display_results(t_spmi, title=f'\\tt-test parameter {names_parameters[iparameter]}', kind='t-test', indent='\\t')\n",
    "            \n",
    "            if t_spmi.h0reject:\n",
    "                if plot_diff:\n",
    "                    # mean difference\n",
    "                    #T_heatmap[B, A, iparameter] = (np.mean(yA[:, iparameter]) - np.mean(yB[:, iparameter]))\n",
    "                    # mean percentage difference\n",
    "                    T_heatmap[B, A, iparameter] = (100 * (np.mean(yA[:, iparameter]) - np.mean(yB[:, iparameter])) / np.mean(yB[:, iparameter])).astype(int)\n",
    "                else:\n",
    "                    T_heatmap[B, A, iparameter] = t_spmi.z\n",
    "    print('--------')"
   ]
  },
  {
   "cell_type": "code",
   "execution_count": null,
   "metadata": {},
   "outputs": [],
   "source": [
    "spm_heatmap(H_heatmap, title='Hotelling T statistics for each position against each other',\n",
    "            labels=names_positions, save_fig=True, cmap='viridis', limits=[0, 100])"
   ]
  },
  {
   "cell_type": "code",
   "execution_count": null,
   "metadata": {},
   "outputs": [],
   "source": [
    "limits = [-100, 100]\n",
    "colors = ['#7570b3', 'white', '#1b9e77']\n",
    "cmap = matplotlib.colors.LinearSegmentedColormap.from_list(\"\", colors)\n",
    "for iparameter in range(nparameter):\n",
    "    spm_heatmap(T_heatmap[:, :, iparameter], title=f'T statistics for each position against each other [{names_parameters[iparameter]}]',\n",
    "                labels=names_positions, save_fig=True, limits=limits, cmap=cmap)"
   ]
  }
 ],
 "metadata": {
  "kernelspec": {
   "display_name": "Python [conda env:envergo]",
   "language": "python",
   "name": "conda-env-envergo-py"
  },
  "language_info": {
   "codemirror_mode": {
    "name": "ipython",
    "version": 3
   },
   "file_extension": ".py",
   "mimetype": "text/x-python",
   "name": "python",
   "nbconvert_exporter": "python",
   "pygments_lexer": "ipython3",
   "version": "3.6.2"
  }
 },
 "nbformat": 4,
 "nbformat_minor": 2
}
