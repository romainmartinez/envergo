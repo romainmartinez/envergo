{
 "cells": [
  {
   "cell_type": "markdown",
   "metadata": {},
   "source": [
    "# EnvErgo project\n",
    "- [researchgate link](https://www.researchgate.net/project/Isokinetic-measurements-and-musculoskeletal-modelling-for-ergonomics)\n",
    "- [github link](https://github.com/romainmartinez/envergo)\n",
    "\n",
    "_Romain Martinez_\n",
    "\n",
    "# Statistical Parametric Mapping"
   ]
  },
  {
   "cell_type": "markdown",
   "metadata": {},
   "source": [
    "## Todos\n",
    "- Region of interest in spm"
   ]
  },
  {
   "cell_type": "markdown",
   "metadata": {},
   "source": [
    "## Data description\n",
    "- 3 files for each position:\n",
    "    1. `participant_position_CVP`: `Couple_ext`, `Couple_flex`, `Position`, `Vitese` (441, 1 each)\n",
    "    2. `participant_position_Flex_meshdata`: `Angle4mesh` (1, 21), `Velocity4mesh` (1, 21), `torque4mesh`(21, 21)\n",
    "    3. `participant_position_Ext_meshdata`: `Angle4mesh` (1, 21), `Velocity4mesh` (1, 21), `torque4mesh` (21, 21)\n",
    "- We will use `Angle4mesh` (1, 21), `Velocity4mesh` (1, 21), `torque4mesh`(21, 21) to generate mesh and do the stats"
   ]
  },
  {
   "cell_type": "code",
   "execution_count": 2,
   "metadata": {},
   "outputs": [],
   "source": [
    "import envergo\n",
    "import os\n",
    "import scipy.io as sio\n",
    "import numpy as np\n",
    "import spm1d\n",
    "import matplotlib.pyplot as plt\n",
    "import seaborn as sns"
   ]
  },
  {
   "cell_type": "code",
   "execution_count": 3,
   "metadata": {},
   "outputs": [],
   "source": [
    "data_path = '/home/romain/Desktop/envergo'\n",
    "files = os.listdir(data_path)\n",
    "\n",
    "torque = {}\n",
    "\n",
    "for ifile in files:\n",
    "    if ifile.endswith('meshdata.mat'):\n",
    "        participant, position, contraction, ext = ifile.split('_')\n",
    "\n",
    "        mat = sio.loadmat(os.path.join(data_path, ifile))['Torque4mesh']\n",
    "        if not position in torque:\n",
    "            torque[position] = {}\n",
    "        if contraction in torque[position]:\n",
    "            torque[position][contraction] = np.dstack((torque[position][contraction], mat))\n",
    "        else:\n",
    "            torque[position][contraction] = mat"
   ]
  },
  {
   "cell_type": "code",
   "execution_count": 4,
   "metadata": {},
   "outputs": [
    {
     "name": "stdout",
     "output_type": "stream",
     "text": [
      "participant: [1 1 1 1 1 1 2 2 2 2 2 2]\n",
      "position: [1 2 3 4 5 6 1 2 3 4 5 6]\n",
      "y.shape: (12, 441)\n"
     ]
    }
   ],
   "source": [
    "# create spm matrix\n",
    "angle, velocity, participant = torque['Abd90ER']['Ext'].shape\n",
    "position = len(torque.keys())\n",
    "\n",
    "participants, positions, y = ([] for i in range(3))\n",
    "\n",
    "for iparticipant in range(participant):\n",
    "    for iposition, position_name in enumerate(torque.keys()):\n",
    "        participants.append(iparticipant + 1)\n",
    "        positions.append(iposition + 1)\n",
    "        y.append(torque[position_name]['Ext'][:, :, iparticipant].flatten())\n",
    "\n",
    "participants, positions, y = [np.array(i) for i in [participants, positions, y]]\n",
    "print('participant: {}'.format(participants))\n",
    "print('position: {}'.format(positions))\n",
    "print('y.shape: {}'.format(y.shape))"
   ]
  },
  {
   "cell_type": "markdown",
   "metadata": {},
   "source": [
    "## One-way repeated-measures ANOVA (non-parametric)"
   ]
  },
  {
   "cell_type": "code",
   "execution_count": 5,
   "metadata": {},
   "outputs": [
    {
     "name": "stdout",
     "output_type": "stream",
     "text": [
      "SnPM{F} inference field\n",
      "   SPM.effect         :  Main A\n",
      "   SPM.z              :  (1x441) raw test stat field\n",
      "   SnPM.nPermUnique   :  4.79e+08 permutations possible\n",
      "Inference:\n",
      "   SPM.alpha          :  0.050\n",
      "   SPM.zstar          :  20.38976\n",
      "   SPM.h0reject       :  False\n",
      "   SPM.p              :  ()\n",
      "\n"
     ]
    },
    {
     "data": {
      "image/png": "[encoded data removed]",
      "text/plain": [
       "<matplotlib.figure.Figure at 0x7f841756a208>"
      ]
     },
     "metadata": {},
     "output_type": "display_data"
    }
   ],
   "source": [
    "alpha = 0.05\n",
    "spm = spm1d.stats.nonparam.anova1rm(y, positions, participants)\n",
    "spmi = spm.inference(alpha, iterations=10000)\n",
    "print(spmi)\n",
    "\n",
    "f = plt.figure()\n",
    "spmi.plot()\n",
    "spmi.plot_p_values()\n",
    "spmi.plot_threshold_label()\n",
    "plt.show()"
   ]
  },
  {
   "cell_type": "code",
   "execution_count": 6,
   "metadata": {},
   "outputs": [],
   "source": [
    "# reshape to visualize the results in their original 2D context\n",
    "z = spmi.z.reshape([21, 21])\n",
    "zstar = spmi.zstar\n",
    "#z[z < zstar] = np.nan"
   ]
  },
  {
   "cell_type": "code",
   "execution_count": 9,
   "metadata": {},
   "outputs": [
    {
     "data": {
      "image/png": "[encoded data removed]",
      "text/plain": [
       "<matplotlib.figure.Figure at 0x7f84130a7160>"
      ]
     },
     "metadata": {},
     "output_type": "display_data"
    }
   ],
   "source": [
    "plt.pcolor(z, cmap='viridis')\n",
    "\n",
    "# float to int\n",
    "envergo.util.axis2int()\n",
    "\n",
    "# aes\n",
    "sns.despine(offset=10, trim=True)\n",
    "\n",
    "# add color bar\n",
    "plt.colorbar(pad=.08)\n",
    "\n",
    "plt.xlabel('Velocity')\n",
    "plt.ylabel('Angle')\n",
    "plt.title('One-way repeated-measures ANOVA')\n",
    "plt.show()"
   ]
  },
  {
   "cell_type": "markdown",
   "metadata": {},
   "source": [
    "## Post hoc analysis (paired t-test)"
   ]
  },
  {
   "cell_type": "code",
   "execution_count": null,
   "metadata": {},
   "outputs": [],
   "source": []
  }
 ],
 "metadata": {
  "kernelspec": {
   "display_name": "Python [conda env:envergo]",
   "language": "python",
   "name": "conda-env-envergo-py"
  },
  "language_info": {
   "codemirror_mode": {
    "name": "ipython",
    "version": 3
   },
   "file_extension": ".py",
   "mimetype": "text/x-python",
   "name": "python",
   "nbconvert_exporter": "python",
   "pygments_lexer": "ipython3",
   "version": "3.6.3"
  }
 },
 "nbformat": 4,
 "nbformat_minor": 2
}
