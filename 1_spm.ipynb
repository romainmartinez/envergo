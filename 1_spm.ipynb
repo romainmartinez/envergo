{
 "cells": [
  {
   "cell_type": "markdown",
   "metadata": {},
   "source": [
    "# EnvErgo project\n",
    "- [researchgate link](https://www.researchgate.net/project/Isokinetic-measurements-and-musculoskeletal-modelling-for-ergonomics)\n",
    "- [github link](https://github.com/romainmartinez/envergo)\n",
    "\n",
    "_Romain Martinez_\n",
    "\n",
    "# Statistical Parametric Mapping"
   ]
  },
  {
   "cell_type": "markdown",
   "metadata": {},
   "source": [
    "## Todos\n",
    "- Region of interest in spm\n",
    "- Do all permutations (`iterations=-1, force_iterations=True`)"
   ]
  },
  {
   "cell_type": "markdown",
   "metadata": {},
   "source": [
    "## Data description\n",
    "- 3 files for each position:\n",
    "    1. `participant_position_CVP`: `Couple_ext`, `Couple_flex`, `Position`, `Vitese` (441, 1 each)\n",
    "    2. `participant_position_Flex_meshdata`: `Angle4mesh` (1, 21), `Velocity4mesh` (1, 21), `torque4mesh`(21, 21)\n",
    "    3. `participant_position_Ext_meshdata`: `Angle4mesh` (1, 21), `Velocity4mesh` (1, 21), `torque4mesh` (21, 21)\n",
    "- We will use `Angle4mesh` (1, 21), `Velocity4mesh` (1, 21), `torque4mesh`(21, 21) to generate mesh and do the stats"
   ]
  },
  {
   "cell_type": "code",
   "execution_count": 1,
   "metadata": {},
   "outputs": [],
   "source": [
    "import envergo\n",
    "import os\n",
    "import scipy.io as sio\n",
    "import numpy as np; np.random.seed(0)\n",
    "import spm1d\n",
    "import itertools\n",
    "import matplotlib.pyplot as plt\n",
    "import seaborn as sns"
   ]
  },
  {
   "cell_type": "code",
   "execution_count": 2,
   "metadata": {},
   "outputs": [],
   "source": [
    "data_path = '/home/romain/Desktop/envergo/meshdata/'\n",
    "files = os.listdir(data_path)\n",
    "\n",
    "torque = {}\n",
    "\n",
    "for ifile in files:\n",
    "    if ifile.endswith('meshdata.mat'):\n",
    "        participant, position, contraction, ext = ifile.split('_')\n",
    "\n",
    "        mat = sio.loadmat(os.path.join(data_path, ifile))['Torque4mesh']\n",
    "        if not position in torque:\n",
    "            torque[position] = {}\n",
    "        if contraction in torque[position]:\n",
    "            torque[position][contraction] = np.dstack((torque[position][contraction], mat))\n",
    "        else:\n",
    "            torque[position][contraction] = mat"
   ]
  },
  {
   "cell_type": "code",
   "execution_count": 3,
   "metadata": {},
   "outputs": [
    {
     "name": "stdout",
     "output_type": "stream",
     "text": [
      "position Flex180ER participant 29 is nan\n",
      "position Flex90IR participant 30 is nan\n",
      "position Flex90ER participant 30 is nan\n",
      "position Flex180ER participant 30 is nan\n",
      "position Abd90IR participant 31 is nan\n",
      "position Flex90IR participant 31 is nan\n",
      "position Flex90ER participant 31 is nan\n",
      "position Flex180ER participant 31 is nan\n",
      "position Abd90IR participant 32 is nan\n",
      "position Flex90IR participant 32 is nan\n",
      "position Flex90ER participant 32 is nan\n",
      "position Flex180ER participant 32 is nan\n",
      "----DIMENSION----\n",
      "participant: (198,)\n",
      "position: (198,)\n",
      "y.shape: (198, 441)\n"
     ]
    }
   ],
   "source": [
    "# create spm matrix (flatten 2D matrix to 1D vector)\n",
    "contraction = 'Ext'\n",
    "angle, velocity, participant = torque['Abd90ER']['Ext'].shape\n",
    "position = len(torque.keys())\n",
    "\n",
    "participants, positions, y = ([] for i in range(3))\n",
    "\n",
    "for iparticipant in range(participant):\n",
    "    for iposition, position_name in enumerate(torque.keys()):\n",
    "        participants.append(iparticipant)\n",
    "        positions.append(iposition)\n",
    "        if iparticipant >= torque[position_name][contraction].shape[2]:\n",
    "            print('position {} participant {} is nan'.format(position_name, iparticipant))\n",
    "            # replace missing trial by nan\n",
    "            y.append(np.full(y[-1].shape[0], np.nan))\n",
    "        else:\n",
    "            y.append(torque[position_name][contraction][:, :, iparticipant - 1].flatten())\n",
    "\n",
    "participants, positions, y = [np.array(i) for i in [participants, positions, y]]\n",
    "print('----dimension----'.upper())\n",
    "print('participant: {}'.format(participants.shape))\n",
    "print('position: {}'.format(positions.shape))\n",
    "print('y.shape: {}'.format(y.shape))"
   ]
  },
  {
   "cell_type": "code",
   "execution_count": 4,
   "metadata": {},
   "outputs": [],
   "source": [
    "# replace missing trial by mean of the position\n",
    "for iposition in np.unique(positions):\n",
    "    idx = positions == iposition\n",
    "    mean_vector = np.nanmean(y[idx, :], axis=0)\n",
    "    y[idx, :] = np.where(np.isnan(y[idx, :]), mean_vector, y[idx, :])"
   ]
  },
  {
   "cell_type": "code",
   "execution_count": 5,
   "metadata": {},
   "outputs": [],
   "source": [
    "def display_results(spm, drop_non_significative=False, title=None):\n",
    "    print(spm)\n",
    "    print(spm.clusters)\n",
    "    \n",
    "    fig, axs = plt.subplots(1, 2, figsize=(15, 4))\n",
    "    \n",
    "    # 1D representation\n",
    "    spm.plot(ax=axs[0])\n",
    "    spm.plot_p_values(ax=axs[0])\n",
    "    spm.plot_threshold_label(ax=axs[0])\n",
    "    axs[0].set_title('1D representation')\n",
    "    \n",
    "    # 2D representation\n",
    "    z = spm.z.reshape([21, 21])\n",
    "    zstar = spm.zstar\n",
    "    if drop_non_significative:\n",
    "        z[z < zstar] = np.nan\n",
    "    \n",
    "    plt.pcolor(z, cmap='viridis')\n",
    "\n",
    "    # float to int\n",
    "    envergo.util.axis2int()\n",
    "    # add color bar\n",
    "    plt.colorbar(pad=.08)\n",
    "    \n",
    "    plt.xlabel('Velocity')\n",
    "    plt.ylabel('Angle')\n",
    "    \n",
    "    axs[1].set_title('2D representation')\n",
    "    \n",
    "    # aes\n",
    "    fig.tight_layout()\n",
    "    fig.suptitle(title, y=1.05, fontsize=15)\n",
    "    plt.show()"
   ]
  },
  {
   "cell_type": "markdown",
   "metadata": {},
   "source": [
    "## One-way repeated-measures ANOVA (non-parametric)"
   ]
  },
  {
   "cell_type": "code",
   "execution_count": null,
   "metadata": {},
   "outputs": [],
   "source": [
    "alpha = 0.05\n",
    "a_spm = spm1d.stats.nonparam.anova1rm(y, positions, participants)\n",
    "a_spmi = a_spm.inference(alpha, iterations=1000)\n",
    "\n",
    "title = 'One-way repeated-measures ANOVA'\n",
    "display_results(a_spmi, drop_non_significative=True, title=title)"
   ]
  },
  {
   "cell_type": "markdown",
   "metadata": {},
   "source": [
    "## Post hoc analysis (paired t-test)"
   ]
  },
  {
   "cell_type": "code",
   "execution_count": 10,
   "metadata": {},
   "outputs": [
    {
     "name": "stdout",
     "output_type": "stream",
     "text": [
      "SnPM{T} inference field\n",
      "   SPM.z              :  (1x441) raw test stat field\n",
      "   SnPM.nPermUnique   :  2.147e+09 permutations possible\n",
      "Inference:\n",
      "   SPM.alpha          :  0.050\n",
      "   SPM.zstar          :  2.68633\n",
      "   SPM.h0reject       :  True\n",
      "   SPM.p              :  (0.011, 0.012, 0.016, 0.017, 0.022)\n",
      "\n",
      "[Cluster (NonParam)\n",
      "   threshold       :  2.686\n",
      "   centroid        :  (9.467, 3.055)\n",
      "   isinterpolated  :  True\n",
      "   iswrapped       :  False\n",
      "   endpoints       :  (0.000, 19.426)\n",
      "   extent          :  19.426\n",
      "   metric          :  ClusterIntegral\n",
      "   metric_value    :  7.33418\n",
      "   nPermUnique     :  2.147e+09 unique permutations possible\n",
      "   nPermActual     :  1000 actual permutations\n",
      "   P               :  0.01100\n",
      "\n",
      ", Cluster (NonParam)\n",
      "   threshold       :  2.686\n",
      "   centroid        :  (28.156, 2.917)\n",
      "   isinterpolated  :  True\n",
      "   iswrapped       :  False\n",
      "   endpoints       :  (20.035, 36.092)\n",
      "   extent          :  16.057\n",
      "   metric          :  ClusterIntegral\n",
      "   metric_value    :  4.15490\n",
      "   nPermUnique     :  2.147e+09 unique permutations possible\n",
      "   nPermActual     :  1000 actual permutations\n",
      "   P               :  0.01200\n",
      "\n",
      ", Cluster (NonParam)\n",
      "   threshold       :  2.686\n",
      "   centroid        :  (44.835, 2.891)\n",
      "   isinterpolated  :  True\n",
      "   iswrapped       :  False\n",
      "   endpoints       :  (41.227, 48.012)\n",
      "   extent          :  6.786\n",
      "   metric          :  ClusterIntegral\n",
      "   metric_value    :  1.84335\n",
      "   nPermUnique     :  2.147e+09 unique permutations possible\n",
      "   nPermActual     :  1000 actual permutations\n",
      "   P               :  0.01600\n",
      "\n",
      ", Cluster (NonParam)\n",
      "   threshold       :  2.686\n",
      "   centroid        :  (64.497, 2.801)\n",
      "   isinterpolated  :  True\n",
      "   iswrapped       :  False\n",
      "   endpoints       :  (62.491, 66.621)\n",
      "   extent          :  4.130\n",
      "   metric          :  ClusterIntegral\n",
      "   metric_value    :  0.68619\n",
      "   nPermUnique     :  2.147e+09 unique permutations possible\n",
      "   nPermActual     :  1000 actual permutations\n",
      "   P               :  0.01700\n",
      "\n",
      ", Cluster (NonParam)\n",
      "   threshold       :  2.686\n",
      "   centroid        :  (84.279, 2.710)\n",
      "   isinterpolated  :  True\n",
      "   iswrapped       :  False\n",
      "   endpoints       :  (83.849, 84.994)\n",
      "   extent          :  1.144\n",
      "   metric          :  ClusterIntegral\n",
      "   metric_value    :  0.07043\n",
      "   nPermUnique     :  2.147e+09 unique permutations possible\n",
      "   nPermActual     :  1000 actual permutations\n",
      "   P               :  0.02200\n",
      "\n",
      "]\n"
     ]
    },
    {
     "name": "stderr",
     "output_type": "stream",
     "text": [
      "/home/romain/miniconda3/envs/envergo/lib/python3.6/site-packages/matplotlib/colors.py:496: RuntimeWarning: invalid value encountered in less\n",
      "  cbook._putmask(xa, xa < 0.0, -1)\n"
     ]
    },
    {
     "data": {
      "image/png": "[encoded data removed]",
      "text/plain": [
       "<matplotlib.figure.Figure at 0x7f71d4d497f0>"
      ]
     },
     "metadata": {},
     "output_type": "display_data"
    }
   ],
   "source": [
    "n_positions = len(set(positions))\n",
    "name_positions = list(torque.keys())\n",
    "combinations = itertools.combinations(range(1, n_positions+1), 2)\n",
    "\n",
    "\n",
    "for A, B in combinations:\n",
    "    yA = y[positions == A]\n",
    "    yB = y[positions == B]\n",
    "\n",
    "    alpha = 0.05\n",
    "    t_spm = spm1d.stats.nonparam.ttest_paired(yA, yB)\n",
    "    t_spmi = t_spm.inference(alpha, two_tailed=True, iterations=1000)\n",
    "    \n",
    "    title = 'paired t-test ({} vs. {})'.format(name_positions[A-1], name_positions[B-1])\n",
    "    display_results(t_spmi, drop_non_significative=True, title=title)"
   ]
  }
 ],
 "metadata": {
  "kernelspec": {
   "display_name": "Python [conda env:envergo]",
   "language": "python",
   "name": "conda-env-envergo-py"
  },
  "language_info": {
   "codemirror_mode": {
    "name": "ipython",
    "version": 3
   },
   "file_extension": ".py",
   "mimetype": "text/x-python",
   "name": "python",
   "nbconvert_exporter": "python",
   "pygments_lexer": "ipython3",
   "version": "3.6.2"
  }
 },
 "nbformat": 4,
 "nbformat_minor": 2
}
